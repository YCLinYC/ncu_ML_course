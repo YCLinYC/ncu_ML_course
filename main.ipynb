{
 "cells": [
  {
   "cell_type": "markdown",
   "metadata": {},
   "source": [
    "### 以下所有程式皆為參考 https://www.itread01.com/content/1549244008.html\n",
    "### 詳細訓練過程說明可以參考 https://keras.io/api/applications/ 的 \"Fine-tune InceptionV3 on a new set of classes\"\n",
    "### 我們只調整參數盡量優化結果"
   ]
  },
  {
   "cell_type": "markdown",
   "metadata": {},
   "source": [
    "### import library、建立讀入資料的前處理generator(包括normalize、一些augmentation)："
   ]
  },
  {
   "cell_type": "code",
   "execution_count": 1,
   "metadata": {},
   "outputs": [],
   "source": [
    "from keras.preprocessing.image import ImageDataGenerator\n",
    "from keras.applications.inception_v3 import InceptionV3,preprocess_input\n",
    "from keras.layers import GlobalAveragePooling2D,Dense\n",
    "from keras.models import Model\n",
    "from keras.utils.vis_utils import plot_model\n",
    "from keras.optimizers import Adagrad\n",
    "# 資料準備\n",
    "train_datagen = ImageDataGenerator(\n",
    "    preprocessing_function=preprocess_input,# ((x/255)-0.5)*2  歸一化到±1之間\n",
    "    rotation_range=30,\n",
    "    width_shift_range=0.2,\n",
    "    height_shift_range=0.2,\n",
    "    shear_range=0.2,\n",
    "    zoom_range=0.2,\n",
    "    horizontal_flip=True,\n",
    ")\n",
    "val_datagen = ImageDataGenerator(\n",
    "    preprocessing_function=preprocess_input,\n",
    "    rotation_range=30,\n",
    "    width_shift_range=0.2,\n",
    "    height_shift_range=0.2,\n",
    "    shear_range=0.2,\n",
    "    zoom_range=0.2,\n",
    "    horizontal_flip=True,\n",
    ")"
   ]
  },
  {
   "cell_type": "markdown",
   "metadata": {},
   "source": [
    "### 調整參數："
   ]
  },
  {
   "cell_type": "code",
   "execution_count": 2,
   "metadata": {},
   "outputs": [],
   "source": [
    "train_directory = './train'\n",
    "validation_directory = './validation'\n",
    "\n",
    "\n",
    "set_GAP_LAYER = 17 #第幾層之上全凍結，其之下全部解凍\n",
    "epochs = 2\n",
    "learning_rate = 0.0001 # 解凍後的learning rate\n",
    "nums_of_label = 101 #output幾種類別\n",
    "training_batch_size = 100 #一個training_batch的資料個數\n",
    "validation_batch_size = 100 #一個validation_batch的資料個數\n",
    "\n",
    "training_total_file_number = 80800 #總共training資料個數\n",
    "validate_total_file_number = 10100 #總共validating資料個數\n",
    "\n",
    "# https://www.codespeedy.com/how-to-set-steps-per-epoch-with-keras/\n",
    "import math\n",
    "def calculate_spe(y, batch_size):\n",
    "    return int(math.ceil((1. * y) / batch_size)) \n",
    "steps_per_epoch = calculate_spe(training_total_file_number, training_batch_size)\n",
    "validation_steps = calculate_spe(validate_total_file_number, validation_batch_size)"
   ]
  },
  {
   "cell_type": "markdown",
   "metadata": {},
   "source": [
    "### 建立之後model.fit_generator要輸入的mapping資料(減少RAM占用)："
   ]
  },
  {
   "cell_type": "code",
   "execution_count": 3,
   "metadata": {},
   "outputs": [
    {
     "name": "stdout",
     "output_type": "stream",
     "text": [
      "Found 80800 images belonging to 101 classes.\n",
      "Found 10100 images belonging to 101 classes.\n"
     ]
    }
   ],
   "source": [
    "train_generator = train_datagen.flow_from_directory(directory=train_directory,\n",
    "                                  target_size=(299,299),#Inception V3規定大小 299*299\n",
    "                                  batch_size=training_batch_size,\n",
    "                                  class_mode='categorical')\n",
    "val_generator = val_datagen.flow_from_directory(directory=validation_directory,\n",
    "                                target_size=(299,299),\n",
    "                                batch_size=validation_batch_size,\n",
    "                                class_mode='categorical')"
   ]
  },
  {
   "cell_type": "markdown",
   "metadata": {},
   "source": [
    "### 沿用inception v3模型和訓練好的權重，並在其尾端接上自訂output layer："
   ]
  },
  {
   "cell_type": "code",
   "execution_count": 4,
   "metadata": {},
   "outputs": [],
   "source": [
    "# 構建基礎模型\n",
    "base_model = InceptionV3(weights='imagenet',include_top=False)\n",
    "\n",
    "# 增加新的輸出層\n",
    "x = base_model.output\n",
    "x = GlobalAveragePooling2D()(x) # GlobalAveragePooling2D 將 MxNxC 的張量轉換成 1xC 張量，C是通道數\n",
    "x = Dense(1024,activation='relu')(x)\n",
    "predictions = Dense(nums_of_label,activation='softmax')(x)\n",
    "model = Model(inputs=base_model.input,outputs=predictions)"
   ]
  },
  {
   "cell_type": "markdown",
   "metadata": {},
   "source": [
    "### 調整解凍範圍："
   ]
  },
  {
   "cell_type": "code",
   "execution_count": 5,
   "metadata": {},
   "outputs": [],
   "source": [
    "def setup_to_transfer_learning(model,base_model):#base_model\n",
    "    for layer in base_model.layers:\n",
    "        layer.trainable = False\n",
    "    model.compile(optimizer='adam',loss='categorical_crossentropy',metrics=['accuracy'])\n",
    "\n",
    "def setup_to_fine_tune(model,base_model):\n",
    "    GAP_LAYER = set_GAP_LAYER\n",
    "    for layer in base_model.layers[:GAP_LAYER+1]:\n",
    "        layer.trainable = False\n",
    "    for layer in base_model.layers[GAP_LAYER+1:]:\n",
    "        layer.trainable = True\n",
    "    model.compile(optimizer=Adagrad(lr=learning_rate),loss='categorical_crossentropy',metrics=['accuracy'])"
   ]
  },
  {
   "cell_type": "markdown",
   "metadata": {},
   "source": [
    "### 訓練："
   ]
  },
  {
   "cell_type": "code",
   "execution_count": null,
   "metadata": {},
   "outputs": [
    {
     "name": "stdout",
     "output_type": "stream",
     "text": [
      "Epoch 1/2\n",
      "808/808 [==============================] - 1955s 2s/step - loss: 2.6815 - accuracy: 0.3611 - val_loss: 1.9177 - val_accuracy: 0.5102\n",
      "Epoch 2/2\n",
      "808/808 [==============================] - 1875s 2s/step - loss: 1.8048 - accuracy: 0.5338 - val_loss: 1.8119 - val_accuracy: 0.5459\n",
      "Epoch 1/2\n",
      "682/808 [========================>.....] - ETA: 3:59 - loss: 2.8669 - accuracy: 0.3291"
     ]
    }
   ],
   "source": [
    "setup_to_transfer_learning(model,base_model)\n",
    "history_tl = model.fit(train_generator,\n",
    "                    steps_per_epoch=steps_per_epoch,\n",
    "                    epochs=epochs,\n",
    "                    validation_data=val_generator,\n",
    "                    validation_steps=validation_steps)\n",
    "model.save('./train_x_layers.h5')\n",
    "\n",
    "setup_to_fine_tune(model,base_model)\n",
    "history_ft = model.fit(train_generator,\n",
    "                                 steps_per_epoch=steps_per_epoch,\n",
    "                                 epochs=epochs,\n",
    "                                 validation_data=val_generator,\n",
    "                                 validation_steps=validation_steps)"
   ]
  },
  {
   "cell_type": "markdown",
   "metadata": {},
   "source": [
    "### 繪製accuracy和loss對epoch折線圖："
   ]
  },
  {
   "cell_type": "code",
   "execution_count": null,
   "metadata": {},
   "outputs": [],
   "source": [
    "import matplotlib.pyplot as plt\n",
    "\n",
    "# summarize history for accuracy\n",
    "plt.plot(history_ft.history['accuracy'])\n",
    "plt.plot(history_ft.history['val_accuracy'])\n",
    "plt.title('model accuracy')\n",
    "plt.ylabel('accuracy')\n",
    "plt.xlabel('epoch')\n",
    "plt.legend(['train', 'test'], loc='upper left')\n",
    "plt.show()\n",
    "\n",
    "# summarize history for loss\n",
    "plt.plot(history_ft.history['loss'])\n",
    "plt.plot(history_ft.history['val_loss'])\n",
    "plt.title('model loss')\n",
    "plt.ylabel('loss')\n",
    "plt.xlabel('epoch')\n",
    "plt.legend(['train', 'test'], loc='upper left')\n",
    "plt.show()"
   ]
  },
  {
   "cell_type": "markdown",
   "metadata": {},
   "source": [
    "### 確認accuracy符合要求後，儲存模型："
   ]
  },
  {
   "cell_type": "code",
   "execution_count": null,
   "metadata": {},
   "outputs": [],
   "source": [
    "model.save('./model.h5')"
   ]
  },
  {
   "cell_type": "markdown",
   "metadata": {},
   "source": [
    "### 繪製confusion_matrix："
   ]
  },
  {
   "cell_type": "code",
   "execution_count": null,
   "metadata": {},
   "outputs": [],
   "source": [
    "#這些還要改，不能直接用!!\n",
    "import matplotlib.pyplot as plt\n",
    "from mlxtend.plotting import plot_confusion_matrix\n",
    "from sklearn.metrics import confusion_matrix\n",
    "\n",
    "pred = model.predict(X_test)\n",
    "pred = np.argmax(pred,axis = 1) \n",
    "y_true = np.argmax(y_test,axis = 1)\n",
    "\n",
    "CATEGORIES = [\"normal\", \"PD\", \"PM\"]\n",
    "CM = confusion_matrix(y_true, pred)\n",
    "\n",
    "fig, ax = plot_confusion_matrix(conf_mat=CM , figsize=(10,10), class_names=CATEGORIES, cmap=plt.cm.Blues)\n",
    "plt.show()"
   ]
  }
 ],
 "metadata": {
  "kernelspec": {
   "display_name": "Python 3",
   "language": "python",
   "name": "python3"
  },
  "language_info": {
   "codemirror_mode": {
    "name": "ipython",
    "version": 3
   },
   "file_extension": ".py",
   "mimetype": "text/x-python",
   "name": "python",
   "nbconvert_exporter": "python",
   "pygments_lexer": "ipython3",
   "version": "3.8.5"
  }
 },
 "nbformat": 4,
 "nbformat_minor": 4
}
